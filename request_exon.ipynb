{
 "metadata": {
  "language_info": {
   "codemirror_mode": {
    "name": "ipython",
    "version": 3
   },
   "file_extension": ".py",
   "mimetype": "text/x-python",
   "name": "python",
   "nbconvert_exporter": "python",
   "pygments_lexer": "ipython3",
   "version": "3.7.5-final"
  },
  "orig_nbformat": 2,
  "kernelspec": {
   "name": "Python 3.7.5 64-bit",
   "display_name": "Python 3.7.5 64-bit",
   "metadata": {
    "interpreter": {
     "hash": "31f2aee4e71d21fbe5cf8b01ff0e069b9275f58929596ceb00d14d90e3e16cd6"
    }
   }
  }
 },
 "nbformat": 4,
 "nbformat_minor": 2,
 "cells": [
  {
   "cell_type": "code",
   "execution_count": 53,
   "metadata": {
    "tags": []
   },
   "outputs": [],
   "source": [
    "import pandas as pd"
   ]
  },
  {
   "cell_type": "code",
   "execution_count": 64,
   "metadata": {
    "tags": []
   },
   "outputs": [],
   "source": [
    "server = \"http://rest.ensembl.org\"\n",
    "exon_df_total = pd.DataFrame()\n",
    "list_gene = [\"ABCC5\",\"CRNDE\",\"GUSBP11\",\"ANKHD1\",\"ADAM12\",\"F8\",\"GAS8\"]\n",
    "\n",
    "for g_name in list_gene:\n",
    "\n",
    "    ext = \"/lookup/symbol/homo_sapiens/\"+g_name+\"?expand=1\"\n",
    "    \n",
    "    r = requests.get(server+ext, headers={ \"Content-Type\" : \"application/json\"})\n",
    "    \n",
    "    if not r.ok:\n",
    "        r.raise_for_status()\n",
    "        sys.exit()\n",
    "        \n",
    "    decoded = r.json()\n",
    "    liste_exon=[]\n",
    "    for k in range(len(decoded['Transcript'])):\n",
    "        exon = decoded['Transcript'][k]\n",
    "        exon = exon[\"Exon\"]\n",
    "        for i in range(len(exon)):\n",
    "            for k_exon, v_exon in exon[i].items():\n",
    "                if k_exon == 'id':\n",
    "                    liste_exon.append(v_exon)\n",
    "    exon_df = pd.DataFrame(liste_exon)\n",
    "    exon_df_total = pd.concat([exon_df_total,exon_df], axis=1)\n",
    "    exon_df_total = exon_df_total.rename(columns={0:g_name})"
   ]
  },
  {
   "cell_type": "code",
   "execution_count": 65,
   "metadata": {},
   "outputs": [
    {
     "output_type": "execute_result",
     "data": {
      "text/plain": [
       "               ABCC5            CRNDE          GUSBP11           ANKHD1  \\\n",
       "0    ENSE00001899220  ENSE00003798647  ENSE00001789998  ENSE00001918425   \n",
       "1    ENSE00002701825  ENSE00003797799  ENSE00001757224  ENSE00003717597   \n",
       "2    ENSE00003585733  ENSE00003799723  ENSE00001718973  ENSE00003728667   \n",
       "3    ENSE00003691819  ENSE00002618483  ENSE00001794195  ENSE00003742240   \n",
       "4    ENSE00000780809  ENSE00002600927  ENSE00001593984  ENSE00003720667   \n",
       "..               ...              ...              ...              ...   \n",
       "219              NaN              NaN              NaN  ENSE00001868389   \n",
       "220              NaN              NaN              NaN  ENSE00001920240   \n",
       "221              NaN              NaN              NaN  ENSE00003623162   \n",
       "222              NaN              NaN              NaN  ENSE00003689125   \n",
       "223              NaN              NaN              NaN  ENSE00001705047   \n",
       "\n",
       "              ADAM12               F8             GAS8  \n",
       "0    ENSE00001619808  ENSE00001515616  ENSE00002575867  \n",
       "1    ENSE00001191046  ENSE00001308463  ENSE00002603916  \n",
       "2    ENSE00001016209  ENSE00001096349  ENSE00002600249  \n",
       "3    ENSE00001382491  ENSE00001096386  ENSE00003553012  \n",
       "4    ENSE00001384099  ENSE00001927019  ENSE00002579367  \n",
       "..               ...              ...              ...  \n",
       "219              NaN              NaN              NaN  \n",
       "220              NaN              NaN              NaN  \n",
       "221              NaN              NaN              NaN  \n",
       "222              NaN              NaN              NaN  \n",
       "223              NaN              NaN              NaN  \n",
       "\n",
       "[224 rows x 7 columns]"
      ],
      "text/html": "<div>\n<style scoped>\n    .dataframe tbody tr th:only-of-type {\n        vertical-align: middle;\n    }\n\n    .dataframe tbody tr th {\n        vertical-align: top;\n    }\n\n    .dataframe thead th {\n        text-align: right;\n    }\n</style>\n<table border=\"1\" class=\"dataframe\">\n  <thead>\n    <tr style=\"text-align: right;\">\n      <th></th>\n      <th>ABCC5</th>\n      <th>CRNDE</th>\n      <th>GUSBP11</th>\n      <th>ANKHD1</th>\n      <th>ADAM12</th>\n      <th>F8</th>\n      <th>GAS8</th>\n    </tr>\n  </thead>\n  <tbody>\n    <tr>\n      <th>0</th>\n      <td>ENSE00001899220</td>\n      <td>ENSE00003798647</td>\n      <td>ENSE00001789998</td>\n      <td>ENSE00001918425</td>\n      <td>ENSE00001619808</td>\n      <td>ENSE00001515616</td>\n      <td>ENSE00002575867</td>\n    </tr>\n    <tr>\n      <th>1</th>\n      <td>ENSE00002701825</td>\n      <td>ENSE00003797799</td>\n      <td>ENSE00001757224</td>\n      <td>ENSE00003717597</td>\n      <td>ENSE00001191046</td>\n      <td>ENSE00001308463</td>\n      <td>ENSE00002603916</td>\n    </tr>\n    <tr>\n      <th>2</th>\n      <td>ENSE00003585733</td>\n      <td>ENSE00003799723</td>\n      <td>ENSE00001718973</td>\n      <td>ENSE00003728667</td>\n      <td>ENSE00001016209</td>\n      <td>ENSE00001096349</td>\n      <td>ENSE00002600249</td>\n    </tr>\n    <tr>\n      <th>3</th>\n      <td>ENSE00003691819</td>\n      <td>ENSE00002618483</td>\n      <td>ENSE00001794195</td>\n      <td>ENSE00003742240</td>\n      <td>ENSE00001382491</td>\n      <td>ENSE00001096386</td>\n      <td>ENSE00003553012</td>\n    </tr>\n    <tr>\n      <th>4</th>\n      <td>ENSE00000780809</td>\n      <td>ENSE00002600927</td>\n      <td>ENSE00001593984</td>\n      <td>ENSE00003720667</td>\n      <td>ENSE00001384099</td>\n      <td>ENSE00001927019</td>\n      <td>ENSE00002579367</td>\n    </tr>\n    <tr>\n      <th>...</th>\n      <td>...</td>\n      <td>...</td>\n      <td>...</td>\n      <td>...</td>\n      <td>...</td>\n      <td>...</td>\n      <td>...</td>\n    </tr>\n    <tr>\n      <th>219</th>\n      <td>NaN</td>\n      <td>NaN</td>\n      <td>NaN</td>\n      <td>ENSE00001868389</td>\n      <td>NaN</td>\n      <td>NaN</td>\n      <td>NaN</td>\n    </tr>\n    <tr>\n      <th>220</th>\n      <td>NaN</td>\n      <td>NaN</td>\n      <td>NaN</td>\n      <td>ENSE00001920240</td>\n      <td>NaN</td>\n      <td>NaN</td>\n      <td>NaN</td>\n    </tr>\n    <tr>\n      <th>221</th>\n      <td>NaN</td>\n      <td>NaN</td>\n      <td>NaN</td>\n      <td>ENSE00003623162</td>\n      <td>NaN</td>\n      <td>NaN</td>\n      <td>NaN</td>\n    </tr>\n    <tr>\n      <th>222</th>\n      <td>NaN</td>\n      <td>NaN</td>\n      <td>NaN</td>\n      <td>ENSE00003689125</td>\n      <td>NaN</td>\n      <td>NaN</td>\n      <td>NaN</td>\n    </tr>\n    <tr>\n      <th>223</th>\n      <td>NaN</td>\n      <td>NaN</td>\n      <td>NaN</td>\n      <td>ENSE00001705047</td>\n      <td>NaN</td>\n      <td>NaN</td>\n      <td>NaN</td>\n    </tr>\n  </tbody>\n</table>\n<p>224 rows × 7 columns</p>\n</div>"
     },
     "metadata": {},
     "execution_count": 65
    }
   ],
   "source": [
    "exon_df_total"
   ]
  },
  {
   "cell_type": "code",
   "execution_count": 66,
   "metadata": {},
   "outputs": [],
   "source": [
    "exon_df_total.to_csv(\"exon_table.csv\")"
   ]
  }
 ]
}